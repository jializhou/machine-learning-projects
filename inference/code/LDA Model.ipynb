{
 "cells": [
  {
   "cell_type": "code",
   "execution_count": 1,
   "metadata": {
    "collapsed": false
   },
   "outputs": [],
   "source": [
    "from gensim import models, similarities\n",
    "import logging, gensim, bz2\n",
    "corpus = []\n",
    "f = open('docword.nips.txt','r')\n",
    "lines = f.readlines()[3:]\n",
    "ma = 0\n",
    "for line in lines:\n",
    "    s = line.strip().split(' ')\n",
    "    doc, word, cnt = int(s[0])-1, int(s[1]), int(s[2])\n",
    "    ma = max(ma, word)\n",
    "    if doc ==len(corpus):\n",
    "        corpus.append([])\n",
    "    corpus[-1].append((word,cnt))\n"
   ]
  },
  {
   "cell_type": "code",
   "execution_count": 2,
   "metadata": {
    "collapsed": false
   },
   "outputs": [],
   "source": [
    "dic = open('vocab.nips.txt','r')\n",
    "lines = dic.readlines()\n",
    "id2word = {}\n",
    "for i in xrange(len(lines)):\n",
    "    w = lines[i].strip()\n",
    "    id2word[i] = w "
   ]
  },
  {
   "cell_type": "code",
   "execution_count": null,
   "metadata": {
    "collapsed": false
   },
   "outputs": [],
   "source": [
    "lda = gensim.models.ldamodel.LdaModel(corpus=corpus, id2word=id2word, num_topics=20, update_every=1, chunksize=10000, passes=1)"
   ]
  },
  {
   "cell_type": "code",
   "execution_count": 18,
   "metadata": {
    "collapsed": false
   },
   "outputs": [
    {
     "data": {
      "text/plain": [
       "[(12,\n",
       "  '0.021*network + 0.010*system + 0.009*neural + 0.009*learning + 0.008*input + 0.008*model + 0.006*output + 0.006*function + 0.006*error + 0.006*algorithm'),\n",
       " (13,\n",
       "  '0.013*model + 0.011*learning + 0.010*function + 0.010*network + 0.008*input + 0.007*algorithm + 0.007*set + 0.006*system + 0.006*unit + 0.006*data'),\n",
       " (19,\n",
       "  '0.012*model + 0.009*network + 0.008*learning + 0.008*input + 0.007*cell + 0.007*system + 0.007*neural + 0.006*function + 0.005*output + 0.005*problem'),\n",
       " (15,\n",
       "  '0.013*network + 0.011*model + 0.008*data + 0.007*learning + 0.007*function + 0.007*input + 0.007*neural + 0.006*result + 0.006*training + 0.006*set'),\n",
       " (1,\n",
       "  '0.015*network + 0.010*learning + 0.010*model + 0.007*function + 0.007*training + 0.007*unit + 0.007*input + 0.006*algorithm + 0.006*neural + 0.006*set'),\n",
       " (9,\n",
       "  '0.018*network + 0.011*model + 0.010*learning + 0.009*neural + 0.008*function + 0.007*set + 0.007*training + 0.007*input + 0.006*output + 0.006*problem'),\n",
       " (18,\n",
       "  '0.013*network + 0.008*function + 0.008*learning + 0.007*model + 0.007*input + 0.007*weight + 0.006*system + 0.006*neural + 0.005*unit + 0.005*result'),\n",
       " (0,\n",
       "  '0.012*network + 0.009*input + 0.007*function + 0.007*system + 0.007*output + 0.006*algorithm + 0.006*weight + 0.006*model + 0.006*learning + 0.005*set'),\n",
       " (7,\n",
       "  '0.013*network + 0.011*model + 0.009*learning + 0.008*function + 0.008*system + 0.007*data + 0.006*input + 0.006*set + 0.005*neural + 0.005*number'),\n",
       " (16,\n",
       "  '0.012*model + 0.010*network + 0.008*system + 0.007*learning + 0.006*data + 0.005*set + 0.005*neural + 0.005*algorithm + 0.005*result + 0.005*training')]"
      ]
     },
     "execution_count": 18,
     "metadata": {},
     "output_type": "execute_result"
    }
   ],
   "source": [
    "lda.show_topics()"
   ]
  },
  {
   "cell_type": "code",
   "execution_count": null,
   "metadata": {
    "collapsed": false
   },
   "outputs": [],
   "source": [
    "lda = gensim.models.ldamodel.LdaModel(corpus=corpus, id2word=id2word, num_topics=100, update_every=1, chunksize=10000, passes=1)\n",
    "lda.show_topics()"
   ]
  },
  {
   "cell_type": "code",
   "execution_count": null,
   "metadata": {
    "collapsed": true
   },
   "outputs": [],
   "source": []
  }
 ],
 "metadata": {
  "kernelspec": {
   "display_name": "Python 2",
   "language": "python",
   "name": "python2"
  },
  "language_info": {
   "codemirror_mode": {
    "name": "ipython",
    "version": 2
   },
   "file_extension": ".py",
   "mimetype": "text/x-python",
   "name": "python",
   "nbconvert_exporter": "python",
   "pygments_lexer": "ipython2",
   "version": "2.7.12"
  }
 },
 "nbformat": 4,
 "nbformat_minor": 0
}
