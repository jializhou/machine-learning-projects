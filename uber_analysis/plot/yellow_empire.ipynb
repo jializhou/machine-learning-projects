{
 "cells": [
  {
   "cell_type": "code",
   "execution_count": 1,
   "metadata": {
    "collapsed": false
   },
   "outputs": [
    {
     "name": "stderr",
     "output_type": "stream",
     "text": [
      "/Users/baymax/anaconda2/lib/python2.7/site-packages/matplotlib/font_manager.py:273: UserWarning: Matplotlib is building the font cache using fc-list. This may take a moment.\n",
      "  warnings.warn('Matplotlib is building the font cache using fc-list. This may take a moment.')\n"
     ]
    }
   ],
   "source": [
    "import pandas as pd\n",
    "\n",
    "%matplotlib inline\n"
   ]
  },
  {
   "cell_type": "code",
   "execution_count": 90,
   "metadata": {
    "collapsed": false
   },
   "outputs": [
    {
     "data": {
      "text/html": [
       "<div>\n",
       "<table border=\"1\" class=\"dataframe\">\n",
       "  <thead>\n",
       "    <tr style=\"text-align: right;\">\n",
       "      <th></th>\n",
       "      <th>0</th>\n",
       "      <th>1</th>\n",
       "      <th>2</th>\n",
       "      <th>3</th>\n",
       "    </tr>\n",
       "  </thead>\n",
       "  <tbody>\n",
       "    <tr>\n",
       "      <th>0</th>\n",
       "      <td>2014-05-26</td>\n",
       "      <td>00:00:00</td>\n",
       "      <td>40.743422</td>\n",
       "      <td>-73.987942</td>\n",
       "    </tr>\n",
       "    <tr>\n",
       "      <th>1</th>\n",
       "      <td>2014-05-26</td>\n",
       "      <td>00:00:00</td>\n",
       "      <td>40.743847</td>\n",
       "      <td>-73.988017</td>\n",
       "    </tr>\n",
       "    <tr>\n",
       "      <th>2</th>\n",
       "      <td>2014-05-26</td>\n",
       "      <td>00:00:00</td>\n",
       "      <td>40.748400</td>\n",
       "      <td>-73.988983</td>\n",
       "    </tr>\n",
       "    <tr>\n",
       "      <th>3</th>\n",
       "      <td>2014-05-26</td>\n",
       "      <td>00:00:00</td>\n",
       "      <td>40.745827</td>\n",
       "      <td>-73.990665</td>\n",
       "    </tr>\n",
       "    <tr>\n",
       "      <th>4</th>\n",
       "      <td>2014-05-26</td>\n",
       "      <td>00:00:13</td>\n",
       "      <td>40.744075</td>\n",
       "      <td>-73.987928</td>\n",
       "    </tr>\n",
       "  </tbody>\n",
       "</table>\n",
       "</div>"
      ],
      "text/plain": [
       "            0         1          2          3\n",
       "0  2014-05-26  00:00:00  40.743422 -73.987942\n",
       "1  2014-05-26  00:00:00  40.743847 -73.988017\n",
       "2  2014-05-26  00:00:00  40.748400 -73.988983\n",
       "3  2014-05-26  00:00:00  40.745827 -73.990665\n",
       "4  2014-05-26  00:00:13  40.744075 -73.987928"
      ]
     },
     "execution_count": 90,
     "metadata": {},
     "output_type": "execute_result"
    }
   ],
   "source": [
    "yellow_26 = pd.read_csv('yellow_05_26_2014.csv', header = None, sep=' ')\n",
    "\n",
    "yellow_26.head()"
   ]
  },
  {
   "cell_type": "code",
   "execution_count": 91,
   "metadata": {
    "collapsed": false
   },
   "outputs": [
    {
     "data": {
      "text/html": [
       "<div>\n",
       "<table border=\"1\" class=\"dataframe\">\n",
       "  <thead>\n",
       "    <tr style=\"text-align: right;\">\n",
       "      <th></th>\n",
       "      <th>0</th>\n",
       "      <th>1</th>\n",
       "      <th>2</th>\n",
       "      <th>3</th>\n",
       "    </tr>\n",
       "  </thead>\n",
       "  <tbody>\n",
       "    <tr>\n",
       "      <th>0</th>\n",
       "      <td>2014-05-28</td>\n",
       "      <td>00:00:00</td>\n",
       "      <td>40.750420</td>\n",
       "      <td>-73.990245</td>\n",
       "    </tr>\n",
       "    <tr>\n",
       "      <th>1</th>\n",
       "      <td>2014-05-28</td>\n",
       "      <td>00:00:00</td>\n",
       "      <td>40.743892</td>\n",
       "      <td>-73.981420</td>\n",
       "    </tr>\n",
       "    <tr>\n",
       "      <th>2</th>\n",
       "      <td>2014-05-28</td>\n",
       "      <td>00:00:00</td>\n",
       "      <td>40.747712</td>\n",
       "      <td>-73.985022</td>\n",
       "    </tr>\n",
       "    <tr>\n",
       "      <th>3</th>\n",
       "      <td>2014-05-28</td>\n",
       "      <td>00:00:00</td>\n",
       "      <td>40.743960</td>\n",
       "      <td>-73.987973</td>\n",
       "    </tr>\n",
       "    <tr>\n",
       "      <th>4</th>\n",
       "      <td>2014-05-28</td>\n",
       "      <td>00:00:00</td>\n",
       "      <td>40.751957</td>\n",
       "      <td>-73.982092</td>\n",
       "    </tr>\n",
       "  </tbody>\n",
       "</table>\n",
       "</div>"
      ],
      "text/plain": [
       "            0         1          2          3\n",
       "0  2014-05-28  00:00:00  40.750420 -73.990245\n",
       "1  2014-05-28  00:00:00  40.743892 -73.981420\n",
       "2  2014-05-28  00:00:00  40.747712 -73.985022\n",
       "3  2014-05-28  00:00:00  40.743960 -73.987973\n",
       "4  2014-05-28  00:00:00  40.751957 -73.982092"
      ]
     },
     "execution_count": 91,
     "metadata": {},
     "output_type": "execute_result"
    }
   ],
   "source": [
    "yellow_28 = pd.read_csv('yellow_05_28_2014.csv', header = None, sep=' ')\n",
    "\n",
    "yellow_28.head()"
   ]
  },
  {
   "cell_type": "code",
   "execution_count": null,
   "metadata": {
    "collapsed": false
   },
   "outputs": [],
   "source": []
  },
  {
   "cell_type": "code",
   "execution_count": 92,
   "metadata": {
    "collapsed": false,
    "scrolled": true
   },
   "outputs": [
    {
     "data": {
      "text/html": [
       "<div>\n",
       "<table border=\"1\" class=\"dataframe\">\n",
       "  <thead>\n",
       "    <tr style=\"text-align: right;\">\n",
       "      <th></th>\n",
       "      <th>0</th>\n",
       "      <th>1</th>\n",
       "      <th>2</th>\n",
       "      <th>3</th>\n",
       "      <th>time</th>\n",
       "      <th>count</th>\n",
       "    </tr>\n",
       "  </thead>\n",
       "  <tbody>\n",
       "    <tr>\n",
       "      <th>0</th>\n",
       "      <td>2014-05-26</td>\n",
       "      <td>00:00:00</td>\n",
       "      <td>40.743422</td>\n",
       "      <td>-73.987942</td>\n",
       "      <td>0</td>\n",
       "      <td>1</td>\n",
       "    </tr>\n",
       "    <tr>\n",
       "      <th>1</th>\n",
       "      <td>2014-05-26</td>\n",
       "      <td>00:00:00</td>\n",
       "      <td>40.743847</td>\n",
       "      <td>-73.988017</td>\n",
       "      <td>0</td>\n",
       "      <td>1</td>\n",
       "    </tr>\n",
       "    <tr>\n",
       "      <th>2</th>\n",
       "      <td>2014-05-26</td>\n",
       "      <td>00:00:00</td>\n",
       "      <td>40.748400</td>\n",
       "      <td>-73.988983</td>\n",
       "      <td>0</td>\n",
       "      <td>1</td>\n",
       "    </tr>\n",
       "    <tr>\n",
       "      <th>3</th>\n",
       "      <td>2014-05-26</td>\n",
       "      <td>00:00:00</td>\n",
       "      <td>40.745827</td>\n",
       "      <td>-73.990665</td>\n",
       "      <td>0</td>\n",
       "      <td>1</td>\n",
       "    </tr>\n",
       "    <tr>\n",
       "      <th>4</th>\n",
       "      <td>2014-05-26</td>\n",
       "      <td>00:00:13</td>\n",
       "      <td>40.744075</td>\n",
       "      <td>-73.987928</td>\n",
       "      <td>0</td>\n",
       "      <td>1</td>\n",
       "    </tr>\n",
       "  </tbody>\n",
       "</table>\n",
       "</div>"
      ],
      "text/plain": [
       "            0         1          2          3  time  count\n",
       "0  2014-05-26  00:00:00  40.743422 -73.987942     0      1\n",
       "1  2014-05-26  00:00:00  40.743847 -73.988017     0      1\n",
       "2  2014-05-26  00:00:00  40.748400 -73.988983     0      1\n",
       "3  2014-05-26  00:00:00  40.745827 -73.990665     0      1\n",
       "4  2014-05-26  00:00:13  40.744075 -73.987928     0      1"
      ]
     },
     "execution_count": 92,
     "metadata": {},
     "output_type": "execute_result"
    }
   ],
   "source": [
    "def fun(s):\n",
    "    return int(s.split(\":\")[0])\n",
    "yellow_26['time'] = map(fun, yellow_26[1][:])\n",
    "yellow_26['count'] = 1\n",
    "yellow_28['pickup_counts_in_May_28'] = 1\n",
    "yellow_26.head()"
   ]
  },
  {
   "cell_type": "code",
   "execution_count": 93,
   "metadata": {
    "collapsed": false
   },
   "outputs": [
    {
     "data": {
      "text/html": [
       "<div>\n",
       "<table border=\"1\" class=\"dataframe\">\n",
       "  <thead>\n",
       "    <tr style=\"text-align: right;\">\n",
       "      <th></th>\n",
       "      <th>0</th>\n",
       "      <th>1</th>\n",
       "      <th>2</th>\n",
       "      <th>3</th>\n",
       "      <th>pickup_counts_in_May_28</th>\n",
       "      <th>time</th>\n",
       "    </tr>\n",
       "  </thead>\n",
       "  <tbody>\n",
       "    <tr>\n",
       "      <th>0</th>\n",
       "      <td>2014-05-28</td>\n",
       "      <td>00:00:00</td>\n",
       "      <td>40.750420</td>\n",
       "      <td>-73.990245</td>\n",
       "      <td>1</td>\n",
       "      <td>0</td>\n",
       "    </tr>\n",
       "    <tr>\n",
       "      <th>1</th>\n",
       "      <td>2014-05-28</td>\n",
       "      <td>00:00:00</td>\n",
       "      <td>40.743892</td>\n",
       "      <td>-73.981420</td>\n",
       "      <td>1</td>\n",
       "      <td>0</td>\n",
       "    </tr>\n",
       "    <tr>\n",
       "      <th>2</th>\n",
       "      <td>2014-05-28</td>\n",
       "      <td>00:00:00</td>\n",
       "      <td>40.747712</td>\n",
       "      <td>-73.985022</td>\n",
       "      <td>1</td>\n",
       "      <td>0</td>\n",
       "    </tr>\n",
       "    <tr>\n",
       "      <th>3</th>\n",
       "      <td>2014-05-28</td>\n",
       "      <td>00:00:00</td>\n",
       "      <td>40.743960</td>\n",
       "      <td>-73.987973</td>\n",
       "      <td>1</td>\n",
       "      <td>0</td>\n",
       "    </tr>\n",
       "    <tr>\n",
       "      <th>4</th>\n",
       "      <td>2014-05-28</td>\n",
       "      <td>00:00:00</td>\n",
       "      <td>40.751957</td>\n",
       "      <td>-73.982092</td>\n",
       "      <td>1</td>\n",
       "      <td>0</td>\n",
       "    </tr>\n",
       "  </tbody>\n",
       "</table>\n",
       "</div>"
      ],
      "text/plain": [
       "            0         1          2          3  pickup_counts_in_May_28  time\n",
       "0  2014-05-28  00:00:00  40.750420 -73.990245                        1     0\n",
       "1  2014-05-28  00:00:00  40.743892 -73.981420                        1     0\n",
       "2  2014-05-28  00:00:00  40.747712 -73.985022                        1     0\n",
       "3  2014-05-28  00:00:00  40.743960 -73.987973                        1     0\n",
       "4  2014-05-28  00:00:00  40.751957 -73.982092                        1     0"
      ]
     },
     "execution_count": 93,
     "metadata": {},
     "output_type": "execute_result"
    }
   ],
   "source": [
    "yellow_28['time'] = map(fun, yellow_28[1][:])\n",
    "yellow_28.head()"
   ]
  },
  {
   "cell_type": "code",
   "execution_count": null,
   "metadata": {
    "collapsed": false
   },
   "outputs": [],
   "source": []
  },
  {
   "cell_type": "code",
   "execution_count": 94,
   "metadata": {
    "collapsed": true
   },
   "outputs": [],
   "source": [
    "import matplotlib.pyplot as plt # side-stepping mpl backend\n",
    "import matplotlib.gridspec as gridspec # subplots\n",
    "\n",
    "import plotly.plotly as py\n",
    "\n",
    "import matplotlib\n",
    "matplotlib.style.use('ggplot')\n",
    "\n",
    "from datetime import datetime"
   ]
  },
  {
   "cell_type": "code",
   "execution_count": 95,
   "metadata": {
    "collapsed": false
   },
   "outputs": [],
   "source": [
    "g_26 = yellow_26.groupby('time')['count']\n",
    "r_26 = g_26.sum()\n",
    "r_26.head()\n",
    "r_26 = pd.DataFrame(r_26)\n"
   ]
  },
  {
   "cell_type": "code",
   "execution_count": 96,
   "metadata": {
    "collapsed": false
   },
   "outputs": [],
   "source": [
    "g_28 = yellow_28.groupby('time')['pickup_counts_in_May_28']\n",
    "r_28 = g_28.sum()\n",
    "r_28.head()\n",
    "r_28 = pd.DataFrame(r_28)"
   ]
  },
  {
   "cell_type": "code",
   "execution_count": 97,
   "metadata": {
    "collapsed": false
   },
   "outputs": [
    {
     "data": {
      "text/html": [
       "<div>\n",
       "<table border=\"1\" class=\"dataframe\">\n",
       "  <thead>\n",
       "    <tr style=\"text-align: right;\">\n",
       "      <th></th>\n",
       "      <th>pickup_counts_in_May_28</th>\n",
       "      <th>pickup_counts_in_May_26</th>\n",
       "    </tr>\n",
       "    <tr>\n",
       "      <th>time</th>\n",
       "      <th></th>\n",
       "      <th></th>\n",
       "    </tr>\n",
       "  </thead>\n",
       "  <tbody>\n",
       "    <tr>\n",
       "      <th>0</th>\n",
       "      <td>494</td>\n",
       "      <td>1056</td>\n",
       "    </tr>\n",
       "    <tr>\n",
       "      <th>1</th>\n",
       "      <td>287</td>\n",
       "      <td>846</td>\n",
       "    </tr>\n",
       "    <tr>\n",
       "      <th>2</th>\n",
       "      <td>186</td>\n",
       "      <td>558</td>\n",
       "    </tr>\n",
       "    <tr>\n",
       "      <th>3</th>\n",
       "      <td>84</td>\n",
       "      <td>389</td>\n",
       "    </tr>\n",
       "    <tr>\n",
       "      <th>4</th>\n",
       "      <td>95</td>\n",
       "      <td>286</td>\n",
       "    </tr>\n",
       "  </tbody>\n",
       "</table>\n",
       "</div>"
      ],
      "text/plain": [
       "      pickup_counts_in_May_28  pickup_counts_in_May_26\n",
       "time                                                  \n",
       "0                         494                     1056\n",
       "1                         287                      846\n",
       "2                         186                      558\n",
       "3                          84                      389\n",
       "4                          95                      286"
      ]
     },
     "execution_count": 97,
     "metadata": {},
     "output_type": "execute_result"
    }
   ],
   "source": [
    "r_28['pickup_counts_in_May_26'] = r_26['count']\n",
    "r_28.head()"
   ]
  },
  {
   "cell_type": "code",
   "execution_count": 99,
   "metadata": {
    "collapsed": false
   },
   "outputs": [
    {
     "data": {
      "text/plain": [
       "<matplotlib.axes._subplots.AxesSubplot at 0x11b0e52d0>"
      ]
     },
     "execution_count": 99,
     "metadata": {},
     "output_type": "execute_result"
    },
    {
     "data": {
      "image/png": "[encoded data removed]",
      "text/plain": [
       "<matplotlib.figure.Figure at 0x11c6aeb50>"
      ]
     },
     "metadata": {},
     "output_type": "display_data"
    }
   ],
   "source": [
    "\n",
    "r_28.plot(figsize=(20,10))"
   ]
  },
  {
   "cell_type": "code",
   "execution_count": 80,
   "metadata": {
    "collapsed": false
   },
   "outputs": [
    {
     "data": {
      "text/plain": [
       "<matplotlib.axes._subplots.AxesSubplot at 0x11b1e8b50>"
      ]
     },
     "execution_count": 80,
     "metadata": {},
     "output_type": "execute_result"
    },
    {
     "data": {
      "image/png": "[encoded data removed]",
      "text/plain": [
       "<matplotlib.figure.Figure at 0x11adfc710>"
      ]
     },
     "metadata": {},
     "output_type": "display_data"
    }
   ],
   "source": [
    "r_28.plot()"
   ]
  },
  {
   "cell_type": "code",
   "execution_count": null,
   "metadata": {
    "collapsed": true
   },
   "outputs": [],
   "source": []
  }
 ],
 "metadata": {
  "kernelspec": {
   "display_name": "Python 2",
   "language": "python",
   "name": "python2"
  },
  "language_info": {
   "codemirror_mode": {
    "name": "ipython",
    "version": 2
   },
   "file_extension": ".py",
   "mimetype": "text/x-python",
   "name": "python",
   "nbconvert_exporter": "python",
   "pygments_lexer": "ipython2",
   "version": "2.7.11"
  }
 },
 "nbformat": 4,
 "nbformat_minor": 0
}
